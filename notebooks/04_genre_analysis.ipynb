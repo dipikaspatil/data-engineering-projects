{
 "cells": [
  {
   "cell_type": "code",
   "execution_count": 7,
   "id": "39ddbfaf-5204-433d-a386-15ab69979ab5",
   "metadata": {},
   "outputs": [
    {
     "name": "stdout",
     "output_type": "stream",
     "text": [
      "Requirement already satisfied: pyspark in /opt/homebrew/Cellar/jupyterlab/4.4.5/libexec/lib/python3.13/site-packages (4.0.1)\n",
      "Requirement already satisfied: py4j==0.10.9.9 in /opt/homebrew/Cellar/jupyterlab/4.4.5/libexec/lib/python3.13/site-packages (from pyspark) (0.10.9.9)\n"
     ]
    }
   ],
   "source": [
    "# Install PySpark\n",
    "import sys\n",
    "!{sys.executable} -m pip install pyspark"
   ]
  },
  {
   "cell_type": "code",
   "execution_count": 8,
   "id": "fcca7881-2d05-4702-83b3-7c0ff3a4e95d",
   "metadata": {},
   "outputs": [
    {
     "name": "stdout",
     "output_type": "stream",
     "text": [
      "PySpark version: 4.0.1\n"
     ]
    }
   ],
   "source": [
    "# Verify Installation\n",
    "import pyspark\n",
    "print(\"PySpark version:\", pyspark.__version__)"
   ]
  },
  {
   "cell_type": "code",
   "execution_count": 9,
   "id": "43b88406-bc4e-444a-992b-5c80c3fbb285",
   "metadata": {},
   "outputs": [
    {
     "name": "stdout",
     "output_type": "stream",
     "text": [
      "openjdk version \"17.0.16\" 2025-07-15\n",
      "OpenJDK Runtime Environment Homebrew (build 17.0.16+0)\n",
      "OpenJDK 64-Bit Server VM Homebrew (build 17.0.16+0, mixed mode, sharing)\n"
     ]
    }
   ],
   "source": [
    "!java -version"
   ]
  },
  {
   "cell_type": "code",
   "execution_count": 1,
   "id": "d6600805-2465-4684-bb4a-6241b5c77802",
   "metadata": {},
   "outputs": [
    {
     "name": "stderr",
     "output_type": "stream",
     "text": [
      "WARNING: Using incubator modules: jdk.incubator.vector\n",
      "Using Spark's default log4j profile: org/apache/spark/log4j2-defaults.properties\n",
      "25/10/14 13:50:00 WARN Utils: Your hostname, NM-MBA-M2.local, resolves to a loopback address: 127.0.0.1; using 192.168.1.153 instead (on interface en0)\n",
      "25/10/14 13:50:00 WARN Utils: Set SPARK_LOCAL_IP if you need to bind to another address\n",
      "Using Spark's default log4j profile: org/apache/spark/log4j2-defaults.properties\n",
      "Setting default log level to \"WARN\".\n",
      "To adjust logging level use sc.setLogLevel(newLevel). For SparkR, use setLogLevel(newLevel).\n",
      "25/10/14 13:50:02 WARN NativeCodeLoader: Unable to load native-hadoop library for your platform... using builtin-java classes where applicable\n"
     ]
    },
    {
     "name": "stdout",
     "output_type": "stream",
     "text": [
      "Spark session created!\n"
     ]
    }
   ],
   "source": [
    "# -----------------------------------\n",
    "# 1. Import Spark and Start Session\n",
    "# -----------------------------------\n",
    "from pyspark.sql import SparkSession\n",
    "from pyspark.sql.functions import col, avg, count, desc\n",
    "\n",
    "spark = SparkSession.builder \\\n",
    "    .appName(\"MovieLensEDA_Data\") \\\n",
    "    .getOrCreate()\n",
    "\n",
    "print(\"Spark session created!\")"
   ]
  },
  {
   "cell_type": "code",
   "execution_count": 16,
   "id": "c6acdf58-0a07-4021-be2e-1363dfe0d507",
   "metadata": {},
   "outputs": [
    {
     "name": "stdout",
     "output_type": "stream",
     "text": [
      "movies_with_genres_exploded Sample:\n",
      "+-------+----------------+---------+\n",
      "|movieId|           title|    genre|\n",
      "+-------+----------------+---------+\n",
      "|      1|Toy Story (1995)|Animation|\n",
      "|      1|Toy Story (1995)| Children|\n",
      "|      1|Toy Story (1995)|   Comedy|\n",
      "|      2|GoldenEye (1995)|   Action|\n",
      "|      2|GoldenEye (1995)|Adventure|\n",
      "+-------+----------------+---------+\n",
      "only showing top 5 rows\n",
      "Ratings Sample:\n",
      "+------+-------+------+---------+\n",
      "|userId|movieId|rating|timestamp|\n",
      "+------+-------+------+---------+\n",
      "|   196|    242|     3|881250949|\n",
      "|   186|    302|     3|891717742|\n",
      "|    22|    377|     1|878887116|\n",
      "|   244|     51|     2|880606923|\n",
      "|   166|    346|     1|886397596|\n",
      "+------+-------+------+---------+\n",
      "only showing top 5 rows\n"
     ]
    }
   ],
   "source": [
    "# -----------------------------------\n",
    "# 2. Load Ratings and Movies Data\n",
    "# -----------------------------------\n",
    "from pyspark.sql.functions import array, when, array_remove, filter, explode\n",
    "\"\"\"\n",
    "🧠 Understanding Your Columns\n",
    "\n",
    "Each _c5, _c6, … _c23 corresponds to a genre flag (1 = belongs to that genre, 0 = not).\n",
    "For example:\n",
    "\n",
    "Column\tGenre\n",
    "_c5\tUnknown\n",
    "_c6\tAction\n",
    "_c7\tAdventure\n",
    "_c8\tAnimation\n",
    "_c9\tChildren’s\n",
    "_c10\tComedy\n",
    "_c11\tCrime\n",
    "_c12\tDocumentary\n",
    "_c13\tDrama\n",
    "_c14\tFantasy\n",
    "_c15\tFilm-Noir\n",
    "_c16\tHorror\n",
    "_c17\tMusical\n",
    "_c18\tMystery\n",
    "_c19\tRomance\n",
    "_c20\tSci-Fi\n",
    "_c21\tThriller\n",
    "_c22\tWar\n",
    "_c23\tWestern\n",
    "\"\"\"\n",
    "ratings = spark.read.csv(\"../data/u.data\", sep=\"\\t\", header=False, inferSchema=True) \\\n",
    "    .toDF(\"userId\", \"movieId\", \"rating\", \"timestamp\")\n",
    "\n",
    "# Load dataset (no header)\n",
    "movies_raw = spark.read.csv(\"../data/u.item\", sep=\"|\", header=False, inferSchema=True)\n",
    "\"\"\"\n",
    "Sample movies_raw data\n",
    "+---+-----------------+-----------+----+--------------------+---+---+---+---+---+----+----+----+----+----+----+----+----+----+----+----+----+----+----+\n",
    "|_c0|              _c1|        _c2| _c3|                 _c4|_c5|_c6|_c7|_c8|_c9|_c10|_c11|_c12|_c13|_c14|_c15|_c16|_c17|_c18|_c19|_c20|_c21|_c22|_c23|\n",
    "+---+-----------------+-----------+----+--------------------+---+---+---+---+---+----+----+----+----+----+----+----+----+----+----+----+----+----+----+\n",
    "|  1| Toy Story (1995)|01-Jan-1995|NULL|http://us.imdb.co...|  0|  0|  0|  1|  1|   1|   0|   0|   0|   0|   0|   0|   0|   0|   0|   0|   0|   0|   0|\n",
    "|  2| GoldenEye (1995)|01-Jan-1995|NULL|http://us.imdb.co...|  0|  1|  1|  0|  0|   0|   0|   0|   0|   0|   0|   0|   0|   0|   0|   0|   1|   0|   0|\n",
    "|  3|Four Rooms (1995)|01-Jan-1995|NULL|http://us.imdb.co...|  0|  0|  0|  0|  0|   0|   0|   0|   0|   0|   0|   0|   0|   0|   0|   0|   1|   0|   0|\n",
    "|  4|Get Shorty (1995)|01-Jan-1995|NULL|http://us.imdb.co...|  0|  1|  0|  0|  0|   1|   0|   0|   1|   0|   0|   0|   0|   0|   0|   0|   0|   0|   0|\n",
    "|  5|   Copycat (1995)|01-Jan-1995|NULL|http://us.imdb.co...|  0|  0|  0|  0|  0|   0|   1|   0|   1|   0|   0|   0|   0|   0|   0|   0|   1|   0|   0|\n",
    "+---+-----------------+-----------+----+--------------------+---+---+---+---+---+----+----+----+----+----+----+----+----+----+----+----+----+----+----+\n",
    "\"\"\"\n",
    "\n",
    "# Define list of genres based on MovieLens 100K schema\n",
    "genre_names = [\n",
    "    \"Unknown\", \"Action\", \"Adventure\", \"Animation\", \"Children\", \"Comedy\", \"Crime\",\n",
    "    \"Documentary\", \"Drama\", \"Fantasy\", \"Film-Noir\", \"Horror\", \"Musical\",\n",
    "    \"Mystery\", \"Romance\", \"Sci-Fi\", \"Thriller\", \"War\", \"Western\"\n",
    "]\n",
    "\n",
    "# Select and Rename c0 as movieId, c1 as title and c5 onwards as per available geners from genre_names\n",
    "\n",
    "movies = movies_raw.select(\n",
    "    col(\"_c0\").alias(\"movieId\"),\n",
    "    col(\"_c1\").alias(\"title\"),\n",
    "    *[col(f\"_c{5+i}\").cast(\"int\").alias(genre) for i, genre in enumerate(genre_names)]\n",
    ")\n",
    "#movies.printSchema()\n",
    "\"\"\"\n",
    "Output\n",
    "\n",
    "+-------+-----------------+-------+------+---------+---------+--------+------+-----+-----------+-----+-------+---------+------+-------+-------+-------+------+--------+---+-------+\n",
    "|movieId|            title|Unknown|Action|Adventure|Animation|Children|Comedy|Crime|Documentary|Drama|Fantasy|Film-Noir|Horror|Musical|Mystery|Romance|Sci-Fi|Thriller|War|Western|\n",
    "+-------+-----------------+-------+------+---------+---------+--------+------+-----+-----------+-----+-------+---------+------+-------+-------+-------+------+--------+---+-------+\n",
    "|      1| Toy Story (1995)|      0|     0|        0|        1|       1|     1|    0|          0|    0|      0|        0|     0|      0|      0|      0|     0|       0|  0|      0|\n",
    "|      2| GoldenEye (1995)|      0|     1|        1|        0|       0|     0|    0|          0|    0|      0|        0|     0|      0|      0|      0|     0|       1|  0|      0|\n",
    "|      3|Four Rooms (1995)|      0|     0|        0|        0|       0|     0|    0|          0|    0|      0|        0|     0|      0|      0|      0|     0|       1|  0|      0|\n",
    "|      4|Get Shorty (1995)|      0|     1|        0|        0|       0|     1|    0|          0|    1|      0|        0|     0|      0|      0|      0|     0|       0|  0|      0|\n",
    "|      5|   Copycat (1995)|      0|     0|        0|        0|       0|     0|    1|          0|    1|      0|        0|     0|      0|      0|      0|     0|       1|  0|      0|\n",
    "+-------+-----------------+-------+------+---------+---------+--------+------+-----+-----------+-----+-------+---------+------+-------+-------+-------+------+--------+---+-------+\n",
    "\"\"\"\n",
    "\n",
    "# Create array of geners where flag = 1 from above output\n",
    "movies_with_genres = movies.select(\"movieId\", \\\n",
    "                                   \"title\", \\\n",
    "                                   filter( \\\n",
    "                                       array(*[when(col(g) == 1, g).otherwise(None) for g in genre_names]), \\\n",
    "                                       lambda x: x.isNotNull() \\\n",
    "                                   ).alias(\"genres\") \\\n",
    "                                  )\n",
    "movies_with_genres_exploded = movies_with_genres.withColumn(\"genre\", explode(col(\"genres\"))) \\\n",
    "                                                .select(\"movieId\", \"title\", \"genre\")\n",
    "                            \n",
    "\"\"\"\n",
    "Output\n",
    "+-------+----------------+---------+\n",
    "|movieId|           title|    genre|\n",
    "+-------+----------------+---------+\n",
    "|      1|Toy Story (1995)|Animation|\n",
    "|      1|Toy Story (1995)| Children|\n",
    "|      1|Toy Story (1995)|   Comedy|\n",
    "|      2|GoldenEye (1995)|   Action|\n",
    "|      2|GoldenEye (1995)|Adventure|\n",
    "+-------+----------------+---------+\n",
    "\"\"\"\n",
    "print(\"movies_with_genres_exploded Sample:\")\n",
    "movies_with_genres_exploded.show(5)\n",
    "\n",
    "print(\"Ratings Sample:\")\n",
    "ratings.show(5)\n",
    "\n",
    "\n"
   ]
  },
  {
   "cell_type": "code",
   "execution_count": 17,
   "id": "10ddffef-0c92-4d5e-93de-ffc3265fd8ea",
   "metadata": {},
   "outputs": [
    {
     "name": "stdout",
     "output_type": "stream",
     "text": [
      "+------+-----------+\n",
      "|rating|num_ratings|\n",
      "+------+-----------+\n",
      "|     1|       6110|\n",
      "|     2|      11370|\n",
      "|     3|      27145|\n",
      "|     4|      34174|\n",
      "|     5|      21201|\n",
      "+------+-----------+\n",
      "\n"
     ]
    },
    {
     "data": {
      "text/plain": [
       "'\\nIf most ratings are 4 or 5, the dataset has a positive bias — users tend to rate generously.\\n'"
      ]
     },
     "execution_count": 17,
     "metadata": {},
     "output_type": "execute_result"
    }
   ],
   "source": [
    "\"\"\"\n",
    "1️⃣ Analyze Rating Distribution\n",
    "\n",
    "Objective: Understand how users rate movies in general — are they generous or strict?\n",
    "\n",
    "Key Steps:\n",
    "\n",
    "- Compute a histogram of ratings (count by rating value).\n",
    "\n",
    "- Visualize or summarize: mean, median, mode of ratings.\n",
    "\"\"\"\n",
    "\n",
    "rating_dist = ratings.groupBy(\"rating\") \\\n",
    "                     .agg(count(\"*\").alias(\"num_ratings\")) \\\n",
    "                     .orderBy(\"rating\")\n",
    "\n",
    "\n",
    "rating_dist.show()\n",
    "\n",
    "\"\"\"\n",
    "If most ratings are 4 or 5, the dataset has a positive bias — users tend to rate generously.\n",
    "\"\"\""
   ]
  },
  {
   "cell_type": "code",
   "execution_count": 18,
   "id": "49e2ddcf-27e0-42d8-bc31-003e712fb0a3",
   "metadata": {},
   "outputs": [
    {
     "name": "stdout",
     "output_type": "stream",
     "text": [
      "+-----------+------------------+------------+\n",
      "|      genre|        avg_rating|total_rating|\n",
      "+-----------+------------------+------------+\n",
      "|  Film-Noir|3.9215233698788228|        1733|\n",
      "|        War| 3.815811874866993|        9398|\n",
      "|      Drama|3.6873793708484772|       39895|\n",
      "|Documentary|3.6728232189973613|         758|\n",
      "|    Mystery|  3.63813155386082|        5245|\n",
      "|      Crime|3.6322780881440098|        8055|\n",
      "|    Romance| 3.621704948358255|       19461|\n",
      "|    Western|3.6132686084142396|        1854|\n",
      "|  Animation|3.5766990291262135|        3605|\n",
      "|     Sci-Fi|3.5607227022780834|       12730|\n",
      "+-----------+------------------+------------+\n",
      "only showing top 10 rows\n"
     ]
    }
   ],
   "source": [
    "\"\"\"\n",
    "2️⃣ Popular Genres by Rating\n",
    "\n",
    "Objective: Find which movie genres are most popular and best rated.\n",
    "\n",
    "Key Steps:\n",
    "\n",
    "- Explode the genres column into multiple rows (many movies have multiple genres).\n",
    "- Group by genre → compute average rating + total number of ratings.\n",
    "\"\"\"\n",
    "\n",
    "popular_genres_by_rating = movies_with_genres_exploded \\\n",
    "                           .join(ratings, \"movieId\") \\\n",
    "                           .groupBy(\"genre\") \\\n",
    "                           .agg(avg(\"rating\").alias(\"avg_rating\"), count(\"rating\").alias(\"total_rating\")) \\\n",
    "                           .orderBy(col(\"avg_rating\").desc())\n",
    "\n",
    "popular_genres_by_rating.show(10)                    \n"
   ]
  },
  {
   "cell_type": "code",
   "execution_count": 22,
   "id": "64de34ad-e16c-4085-b9d2-7edbb25ae932",
   "metadata": {},
   "outputs": [
    {
     "name": "stdout",
     "output_type": "stream",
     "text": [
      "+----+------------------+------------+\n",
      "|year|        avg_rating|total_rating|\n",
      "+----+------------------+------------+\n",
      "|1997|3.5678641583559987|       52944|\n",
      "|1998|3.4871004760285618|       47056|\n",
      "+----+------------------+------------+\n",
      "\n"
     ]
    }
   ],
   "source": [
    "\"\"\"\n",
    "3️⃣ Ratings Trend Over Time\n",
    "\n",
    "Objective: See how movie ratings evolve — e.g., do users rate older movies differently?\n",
    "\n",
    "Key Steps:\n",
    "\n",
    "Convert timestamp to date/year.\n",
    "\n",
    "Group by year → compute average rating per year.\n",
    "\"\"\"\n",
    "from pyspark.sql.functions import year, from_unixtime\n",
    "\n",
    "ratings_by_year = ratings \\\n",
    "                  .withColumn(\"year\", year(from_unixtime(col(\"timestamp\")))) \\\n",
    "                  .groupBy(\"year\") \\\n",
    "                  .agg(avg(\"rating\").alias(\"avg_rating\"), count(\"rating\").alias(\"total_rating\")) \\\n",
    "                  .orderBy(\"year\")\n",
    "\n",
    "ratings_by_year.show(10)\n",
    "                              "
   ]
  },
  {
   "cell_type": "code",
   "execution_count": 23,
   "id": "9843b8ca-5785-4dac-971e-9c9a3e6a1738",
   "metadata": {},
   "outputs": [
    {
     "name": "stdout",
     "output_type": "stream",
     "text": [
      "+------+------------+\n",
      "|userId|total_rating|\n",
      "+------+------------+\n",
      "|   405|         737|\n",
      "|   655|         685|\n",
      "|    13|         636|\n",
      "|   450|         540|\n",
      "|   276|         518|\n",
      "|   416|         493|\n",
      "|   537|         490|\n",
      "|   303|         484|\n",
      "|   234|         480|\n",
      "|   393|         448|\n",
      "+------+------------+\n",
      "only showing top 10 rows\n"
     ]
    }
   ],
   "source": [
    "\"\"\"\n",
    "4️⃣ Top Users (Most Active Raters)\n",
    "\n",
    "Objective: Identify power users who contribute the most ratings.\n",
    "\"\"\"\n",
    "\n",
    "top_users = ratings \\\n",
    "            .groupBy(\"userId\") \\\n",
    "            .agg(count(\"rating\").alias(\"total_rating\"))\\\n",
    "            .orderBy(col(\"total_rating\").desc())\n",
    "\n",
    "top_users.show(10)"
   ]
  },
  {
   "cell_type": "code",
   "execution_count": null,
   "id": "1a5797e1-5430-401e-ac86-28b067a0e65d",
   "metadata": {},
   "outputs": [],
   "source": []
  }
 ],
 "metadata": {
  "kernelspec": {
   "display_name": "Python 3 (ipykernel)",
   "language": "python",
   "name": "python3"
  },
  "language_info": {
   "codemirror_mode": {
    "name": "ipython",
    "version": 3
   },
   "file_extension": ".py",
   "mimetype": "text/x-python",
   "name": "python",
   "nbconvert_exporter": "python",
   "pygments_lexer": "ipython3",
   "version": "3.13.5"
  }
 },
 "nbformat": 4,
 "nbformat_minor": 5
}
