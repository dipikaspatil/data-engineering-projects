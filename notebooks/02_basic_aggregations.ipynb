{
 "cells": [
  {
   "cell_type": "code",
   "execution_count": 2,
   "id": "d71c026f-2832-4b00-9547-f3c8f4393cfd",
   "metadata": {},
   "outputs": [
    {
     "name": "stdout",
     "output_type": "stream",
     "text": [
      "Requirement already satisfied: pyspark in /opt/homebrew/Cellar/jupyterlab/4.4.5/libexec/lib/python3.13/site-packages (4.0.1)\n",
      "Requirement already satisfied: py4j==0.10.9.9 in /opt/homebrew/Cellar/jupyterlab/4.4.5/libexec/lib/python3.13/site-packages (from pyspark) (0.10.9.9)\n"
     ]
    }
   ],
   "source": [
    "# Install PySpark\n",
    "import sys\n",
    "!{sys.executable} -m pip install pyspark"
   ]
  },
  {
   "cell_type": "code",
   "execution_count": 3,
   "id": "17f65d6f-4195-454f-bf70-372694e149fa",
   "metadata": {},
   "outputs": [
    {
     "name": "stdout",
     "output_type": "stream",
     "text": [
      "PySpark version: 4.0.1\n"
     ]
    }
   ],
   "source": [
    "# Verify Installation\n",
    "import pyspark\n",
    "print(\"PySpark version:\", pyspark.__version__)"
   ]
  },
  {
   "cell_type": "code",
   "execution_count": 4,
   "id": "39fcc7fd-873d-42c0-9e7c-92d2e5881795",
   "metadata": {},
   "outputs": [
    {
     "name": "stdout",
     "output_type": "stream",
     "text": [
      "openjdk version \"17.0.16\" 2025-07-15\n",
      "OpenJDK Runtime Environment Homebrew (build 17.0.16+0)\n",
      "OpenJDK 64-Bit Server VM Homebrew (build 17.0.16+0, mixed mode, sharing)\n"
     ]
    }
   ],
   "source": [
    "!java -version"
   ]
  },
  {
   "cell_type": "code",
   "execution_count": 1,
   "id": "1d4f558a-86b3-4ca0-bc32-5b49df1fff9f",
   "metadata": {},
   "outputs": [
    {
     "name": "stderr",
     "output_type": "stream",
     "text": [
      "WARNING: Using incubator modules: jdk.incubator.vector\n",
      "Using Spark's default log4j profile: org/apache/spark/log4j2-defaults.properties\n",
      "Setting default log level to \"WARN\".\n",
      "To adjust logging level use sc.setLogLevel(newLevel). For SparkR, use setLogLevel(newLevel).\n",
      "25/10/02 17:15:20 WARN NativeCodeLoader: Unable to load native-hadoop library for your platform... using builtin-java classes where applicable\n"
     ]
    },
    {
     "name": "stdout",
     "output_type": "stream",
     "text": [
      "Spark session created!\n"
     ]
    }
   ],
   "source": [
    "# -----------------------------------\n",
    "# 1. Import Spark and Start Session\n",
    "# -----------------------------------\n",
    "from pyspark.sql import SparkSession\n",
    "from pyspark.sql.functions import col, avg, count, desc\n",
    "\n",
    "spark = SparkSession.builder \\\n",
    "    .appName(\"MovieLensEDA_BasicAggregations\") \\\n",
    "    .getOrCreate()\n",
    "\n",
    "print(\"Spark session created!\")"
   ]
  },
  {
   "cell_type": "code",
   "execution_count": 5,
   "id": "bddcbb8a-2f92-44a3-815d-b210ebb286f0",
   "metadata": {},
   "outputs": [
    {
     "name": "stdout",
     "output_type": "stream",
     "text": [
      "Ratings Sample:\n",
      "+------+-------+------+---------+\n",
      "|userId|movieId|rating|timestamp|\n",
      "+------+-------+------+---------+\n",
      "|   196|    242|     3|881250949|\n",
      "|   186|    302|     3|891717742|\n",
      "|    22|    377|     1|878887116|\n",
      "|   244|     51|     2|880606923|\n",
      "|   166|    346|     1|886397596|\n",
      "+------+-------+------+---------+\n",
      "only showing top 5 rows\n",
      "Movies Sample:\n",
      "+-------+-----------------+\n",
      "|movieId|            title|\n",
      "+-------+-----------------+\n",
      "|      1| Toy Story (1995)|\n",
      "|      2| GoldenEye (1995)|\n",
      "|      3|Four Rooms (1995)|\n",
      "|      4|Get Shorty (1995)|\n",
      "|      5|   Copycat (1995)|\n",
      "+-------+-----------------+\n",
      "only showing top 5 rows\n"
     ]
    }
   ],
   "source": [
    "# -----------------------------------\n",
    "# 2. Load Ratings and Movies Data\n",
    "# -----------------------------------\n",
    "ratings = spark.read.csv(\"../data/u.data\", sep=\"\\t\", header=False, inferSchema=True) \\\n",
    "    .toDF(\"userId\", \"movieId\", \"rating\", \"timestamp\")\n",
    "\n",
    "movies = spark.read.csv(\"../data/u.item\", sep=\"|\", header=False, inferSchema=True) \\\n",
    "    .selectExpr(\"_c0 as movieId\", \"_c1 as title\")\n",
    "\n",
    "print(\"Ratings Sample:\")\n",
    "ratings.show(5)\n",
    "\n",
    "print(\"Movies Sample:\")\n",
    "movies.show(5)"
   ]
  },
  {
   "cell_type": "code",
   "execution_count": 6,
   "id": "9773f267-ef34-40ea-b1c7-182b8b5e7911",
   "metadata": {},
   "outputs": [
    {
     "name": "stdout",
     "output_type": "stream",
     "text": [
      "+-------+----------+\n",
      "|movieId|numRatings|\n",
      "+-------+----------+\n",
      "|     50|       583|\n",
      "|    258|       509|\n",
      "|    100|       508|\n",
      "|    181|       507|\n",
      "|    294|       485|\n",
      "|    286|       481|\n",
      "|    288|       478|\n",
      "|      1|       452|\n",
      "|    300|       431|\n",
      "|    121|       429|\n",
      "+-------+----------+\n",
      "only showing top 10 rows\n"
     ]
    }
   ],
   "source": [
    "# Count Ratings per Movie\n",
    "ratings_per_movie = ratings.groupBy(\"movieId\") \\\n",
    "                    .agg(count(\"rating\").alias(\"numRatings\")) \\\n",
    "                    .orderBy(desc(\"numRatings\"))\n",
    "\n",
    "ratings_per_movie.show(10)\n",
    "                                    "
   ]
  },
  {
   "cell_type": "code",
   "execution_count": 10,
   "id": "eb9d1ee0-21c4-4e1f-b2cd-e0dfbd22bf71",
   "metadata": {},
   "outputs": [
    {
     "name": "stdout",
     "output_type": "stream",
     "text": [
      "+-------+----------+\n",
      "|movieId|avgRatings|\n",
      "+-------+----------+\n",
      "|   1599|       5.0|\n",
      "|   1500|       5.0|\n",
      "|   1201|       5.0|\n",
      "|   1653|       5.0|\n",
      "|   1122|       5.0|\n",
      "|   1467|       5.0|\n",
      "|   1189|       5.0|\n",
      "|   1293|       5.0|\n",
      "|   1536|       5.0|\n",
      "|    814|       5.0|\n",
      "+-------+----------+\n",
      "only showing top 10 rows\n"
     ]
    }
   ],
   "source": [
    "# Average Rating per Movie\n",
    "avg_rating_per_movie = ratings.groupBy(\"movieId\") \\\n",
    "                    .agg(avg(\"rating\").alias(\"avgRatings\")) \\\n",
    "                    .orderBy(desc(\"avgRatings\"))\n",
    "\n",
    "avg_rating_per_movie.show(10)"
   ]
  },
  {
   "cell_type": "code",
   "execution_count": 11,
   "id": "c310427b-7ac4-4aec-88ab-9e9d727e9087",
   "metadata": {},
   "outputs": [
    {
     "name": "stdout",
     "output_type": "stream",
     "text": [
      "+-------+----------+--------------------+\n",
      "|movieId|numRatings|               title|\n",
      "+-------+----------+--------------------+\n",
      "|     50|       583|    Star Wars (1977)|\n",
      "|    258|       509|      Contact (1997)|\n",
      "|    100|       508|        Fargo (1996)|\n",
      "|    181|       507|Return of the Jed...|\n",
      "|    294|       485|    Liar Liar (1997)|\n",
      "|    286|       481|English Patient, ...|\n",
      "|    288|       478|       Scream (1996)|\n",
      "|      1|       452|    Toy Story (1995)|\n",
      "|    300|       431|Air Force One (1997)|\n",
      "|    121|       429|Independence Day ...|\n",
      "+-------+----------+--------------------+\n",
      "only showing top 10 rows\n"
     ]
    }
   ],
   "source": [
    "# Top Movies by Rating Count & Join with Titles\n",
    "top_movies = ratings_per_movie.join(movies, on=\"movieId\", how=\"inner\") \\\n",
    "                              .select(\"movieId\", \"numRatings\", \"title\") \\\n",
    "                              .orderBy(desc(\"numRatings\"))\n",
    "\n",
    "top_movies.show(10)\n"
   ]
  },
  {
   "cell_type": "code",
   "execution_count": 12,
   "id": "c6db9398-8f42-4aad-98da-794b9c3d8c55",
   "metadata": {},
   "outputs": [
    {
     "name": "stdout",
     "output_type": "stream",
     "text": [
      "+------+----------+\n",
      "|userId|numRatings|\n",
      "+------+----------+\n",
      "|   405|       737|\n",
      "|   655|       685|\n",
      "|    13|       636|\n",
      "|   450|       540|\n",
      "|   276|       518|\n",
      "|   416|       493|\n",
      "|   537|       490|\n",
      "|   303|       484|\n",
      "|   234|       480|\n",
      "|   393|       448|\n",
      "+------+----------+\n",
      "only showing top 10 rows\n"
     ]
    }
   ],
   "source": [
    "# Ratings Distribution per User\n",
    "ratings_per_user = ratings.groupBy(\"userId\") \\\n",
    "                    .agg(count(\"rating\").alias(\"numRatings\")) \\\n",
    "                    .orderBy(desc(\"numRatings\"))\n",
    "\n",
    "ratings_per_user.show(10)"
   ]
  },
  {
   "cell_type": "code",
   "execution_count": 13,
   "id": "7a399030-3472-4ea5-9e45-4f211e7109e5",
   "metadata": {},
   "outputs": [
    {
     "name": "stdout",
     "output_type": "stream",
     "text": [
      "Spark session stopped.\n"
     ]
    }
   ],
   "source": [
    "# Stop Spark Session\n",
    "spark.stop()\n",
    "print(\"Spark session stopped.\")"
   ]
  },
  {
   "cell_type": "code",
   "execution_count": null,
   "id": "10e39009-87b6-48c1-8066-a971f2151a84",
   "metadata": {},
   "outputs": [],
   "source": []
  }
 ],
 "metadata": {
  "kernelspec": {
   "display_name": "Python 3 (ipykernel)",
   "language": "python",
   "name": "python3"
  },
  "language_info": {
   "codemirror_mode": {
    "name": "ipython",
    "version": 3
   },
   "file_extension": ".py",
   "mimetype": "text/x-python",
   "name": "python",
   "nbconvert_exporter": "python",
   "pygments_lexer": "ipython3",
   "version": "3.13.5"
  }
 },
 "nbformat": 4,
 "nbformat_minor": 5
}
