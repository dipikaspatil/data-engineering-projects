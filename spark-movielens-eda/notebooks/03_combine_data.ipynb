{
 "cells": [
  {
   "cell_type": "code",
   "execution_count": 1,
   "id": "3a112d7a-0e5b-4109-ae21-9d0e56fcdd94",
   "metadata": {},
   "outputs": [
    {
     "name": "stdout",
     "output_type": "stream",
     "text": [
      "Requirement already satisfied: pyspark in /opt/homebrew/Cellar/jupyterlab/4.4.5/libexec/lib/python3.13/site-packages (4.0.1)\n",
      "Requirement already satisfied: py4j==0.10.9.9 in /opt/homebrew/Cellar/jupyterlab/4.4.5/libexec/lib/python3.13/site-packages (from pyspark) (0.10.9.9)\n"
     ]
    }
   ],
   "source": [
    "# Install PySpark\n",
    "import sys\n",
    "!{sys.executable} -m pip install pyspark"
   ]
  },
  {
   "cell_type": "code",
   "execution_count": 2,
   "id": "f7f6a666-8529-4afd-a397-4c88c69589ef",
   "metadata": {},
   "outputs": [
    {
     "name": "stdout",
     "output_type": "stream",
     "text": [
      "PySpark version: 4.0.1\n"
     ]
    }
   ],
   "source": [
    "# Verify Installation\n",
    "import pyspark\n",
    "print(\"PySpark version:\", pyspark.__version__)"
   ]
  },
  {
   "cell_type": "code",
   "execution_count": 3,
   "id": "b9a311e7-dee2-405d-b3a0-32576a313c04",
   "metadata": {},
   "outputs": [
    {
     "name": "stdout",
     "output_type": "stream",
     "text": [
      "openjdk version \"17.0.16\" 2025-07-15\n",
      "OpenJDK Runtime Environment Homebrew (build 17.0.16+0)\n",
      "OpenJDK 64-Bit Server VM Homebrew (build 17.0.16+0, mixed mode, sharing)\n"
     ]
    }
   ],
   "source": [
    "!java -version"
   ]
  },
  {
   "cell_type": "code",
   "execution_count": 4,
   "id": "e8cdd88b-c5b9-49a7-8efa-450986014467",
   "metadata": {},
   "outputs": [
    {
     "name": "stderr",
     "output_type": "stream",
     "text": [
      "WARNING: Using incubator modules: jdk.incubator.vector\n",
      "Using Spark's default log4j profile: org/apache/spark/log4j2-defaults.properties\n",
      "Setting default log level to \"WARN\".\n",
      "To adjust logging level use sc.setLogLevel(newLevel). For SparkR, use setLogLevel(newLevel).\n",
      "25/10/06 13:51:55 WARN NativeCodeLoader: Unable to load native-hadoop library for your platform... using builtin-java classes where applicable\n"
     ]
    },
    {
     "name": "stdout",
     "output_type": "stream",
     "text": [
      "Spark session created!\n"
     ]
    }
   ],
   "source": [
    "# -----------------------------------\n",
    "# 1. Import Spark and Start Session\n",
    "# -----------------------------------\n",
    "from pyspark.sql import SparkSession\n",
    "from pyspark.sql.functions import col, avg, count, desc\n",
    "\n",
    "spark = SparkSession.builder \\\n",
    "    .appName(\"MovieLensEDA_CombineData\") \\\n",
    "    .getOrCreate()\n",
    "\n",
    "print(\"Spark session created!\")"
   ]
  },
  {
   "cell_type": "code",
   "execution_count": 6,
   "id": "9a07e80d-0912-4564-b3b2-3cdf1c2be9bd",
   "metadata": {},
   "outputs": [
    {
     "name": "stdout",
     "output_type": "stream",
     "text": [
      "Ratings Sample:\n",
      "+------+-------+------+---------+\n",
      "|userId|movieId|rating|timestamp|\n",
      "+------+-------+------+---------+\n",
      "|   196|    242|     3|881250949|\n",
      "|   186|    302|     3|891717742|\n",
      "|    22|    377|     1|878887116|\n",
      "|   244|     51|     2|880606923|\n",
      "|   166|    346|     1|886397596|\n",
      "+------+-------+------+---------+\n",
      "only showing top 5 rows\n",
      "Movies Sample:\n",
      "+-------+-----------------+\n",
      "|movieId|            title|\n",
      "+-------+-----------------+\n",
      "|      1| Toy Story (1995)|\n",
      "|      2| GoldenEye (1995)|\n",
      "|      3|Four Rooms (1995)|\n",
      "|      4|Get Shorty (1995)|\n",
      "|      5|   Copycat (1995)|\n",
      "+-------+-----------------+\n",
      "only showing top 5 rows\n"
     ]
    }
   ],
   "source": [
    "# -----------------------------------\n",
    "# 2. Load Ratings and Movies Data\n",
    "# -----------------------------------\n",
    "ratings = spark.read.csv(\"../data/u.data\", sep=\"\\t\", header=False, inferSchema=True) \\\n",
    "    .toDF(\"userId\", \"movieId\", \"rating\", \"timestamp\")\n",
    "\n",
    "movies = spark.read.csv(\"../data/u.item\", sep=\"|\", header=False, inferSchema=True) \\\n",
    "    .selectExpr(\"_c0 as movieId\", \"_c1 as title\")\n",
    "\n",
    "print(\"Ratings Sample:\")\n",
    "ratings.show(5)\n",
    "\n",
    "print(\"Movies Sample:\")\n",
    "movies.show(5)\n"
   ]
  },
  {
   "cell_type": "code",
   "execution_count": 7,
   "id": "a6611409-916c-497c-a93c-f2b2d5562ee9",
   "metadata": {},
   "outputs": [
    {
     "name": "stdout",
     "output_type": "stream",
     "text": [
      "+-------+------+------+---------+--------------------+\n",
      "|movieId|userId|rating|timestamp|               title|\n",
      "+-------+------+------+---------+--------------------+\n",
      "|    242|   196|     3|881250949|        Kolya (1996)|\n",
      "|    302|   186|     3|891717742|L.A. Confidential...|\n",
      "|    377|    22|     1|878887116| Heavyweights (1994)|\n",
      "|     51|   244|     2|880606923|Legends of the Fa...|\n",
      "|    346|   166|     1|886397596| Jackie Brown (1997)|\n",
      "+-------+------+------+---------+--------------------+\n",
      "only showing top 5 rows\n"
     ]
    }
   ],
   "source": [
    "# Join Ratings with Movies\n",
    "ratings_with_titles = ratings.join(movies, on=\"movieId\", how=\"inner\")\n",
    "ratings_with_titles.show(5)"
   ]
  },
  {
   "cell_type": "code",
   "execution_count": 8,
   "id": "70986053-0ecb-49fe-9c44-bc677b155707",
   "metadata": {},
   "outputs": [
    {
     "name": "stdout",
     "output_type": "stream",
     "text": [
      "+-------+--------------------+------------------+-----------+\n",
      "|movieId|               title|        avg_rating|num_ratings|\n",
      "+-------+--------------------+------------------+-----------+\n",
      "|     50|    Star Wars (1977)|4.3584905660377355|        583|\n",
      "|    258|      Contact (1997)|3.8035363457760316|        509|\n",
      "|    100|        Fargo (1996)| 4.155511811023622|        508|\n",
      "|    181|Return of the Jed...| 4.007889546351085|        507|\n",
      "|    294|    Liar Liar (1997)| 3.156701030927835|        485|\n",
      "|    286|English Patient, ...| 3.656964656964657|        481|\n",
      "|    288|       Scream (1996)|3.4414225941422596|        478|\n",
      "|      1|    Toy Story (1995)|3.8783185840707963|        452|\n",
      "|    300|Air Force One (1997)|3.6310904872389793|        431|\n",
      "|    121|Independence Day ...| 3.438228438228438|        429|\n",
      "+-------+--------------------+------------------+-----------+\n",
      "only showing top 10 rows\n"
     ]
    }
   ],
   "source": [
    "# Compute Average Rating per Movie (Combined Data)\n",
    "avg_rating = ratings_with_titles.groupBy(\"movieId\", \"title\") \\\n",
    "                                .agg(avg(\"rating\").alias(\"avg_rating\"),\n",
    "                                     count(\"rating\").alias(\"num_ratings\")) \\\n",
    "                                .orderBy(desc(\"num_ratings\"))\n",
    "\n",
    "avg_rating.show(10)"
   ]
  },
  {
   "cell_type": "code",
   "execution_count": 9,
   "id": "bc7727d1-2230-46cc-8e3c-62fc315e51af",
   "metadata": {},
   "outputs": [
    {
     "name": "stdout",
     "output_type": "stream",
     "text": [
      "+------+-----------+\n",
      "|userId|num_ratings|\n",
      "+------+-----------+\n",
      "|   405|        737|\n",
      "|   655|        685|\n",
      "|    13|        636|\n",
      "|   450|        540|\n",
      "|   276|        518|\n",
      "|   416|        493|\n",
      "|   537|        490|\n",
      "|   303|        484|\n",
      "|   234|        480|\n",
      "|   393|        448|\n",
      "+------+-----------+\n",
      "only showing top 10 rows\n"
     ]
    }
   ],
   "source": [
    "# Top Users by Number of Ratings\n",
    "top_users = ratings.groupBy(\"userId\") \\\n",
    "                   .agg(count(\"rating\").alias(\"num_ratings\")) \\\n",
    "                   .orderBy(desc(\"num_ratings\"))\n",
    "\n",
    "top_users.show(10)"
   ]
  },
  {
   "cell_type": "code",
   "execution_count": 10,
   "id": "82669a7f-0731-4f87-9554-8cb1c924a949",
   "metadata": {},
   "outputs": [
    {
     "name": "stdout",
     "output_type": "stream",
     "text": [
      "Spark session stopped.\n"
     ]
    }
   ],
   "source": [
    "# Stop Spark Session\n",
    "spark.stop()\n",
    "print(\"Spark session stopped.\")"
   ]
  },
  {
   "cell_type": "code",
   "execution_count": null,
   "id": "172f71b2-a008-4af4-ab2c-f19c2232a0be",
   "metadata": {},
   "outputs": [],
   "source": []
  }
 ],
 "metadata": {
  "kernelspec": {
   "display_name": "Python 3 (ipykernel)",
   "language": "python",
   "name": "python3"
  },
  "language_info": {
   "codemirror_mode": {
    "name": "ipython",
    "version": 3
   },
   "file_extension": ".py",
   "mimetype": "text/x-python",
   "name": "python",
   "nbconvert_exporter": "python",
   "pygments_lexer": "ipython3",
   "version": "3.13.5"
  }
 },
 "nbformat": 4,
 "nbformat_minor": 5
}
